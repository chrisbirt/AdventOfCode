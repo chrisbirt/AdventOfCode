{
 "cells": [
  {
   "cell_type": "code",
   "execution_count": 35,
   "id": "5caee3e9",
   "metadata": {},
   "outputs": [
    {
     "name": "stdout",
     "output_type": "stream",
     "text": [
      "Day 10, part 1: 15120\n",
      "Day 10, part 2: \n",
      "###..#..#.###....##.###..###..#.....##.#\n",
      "#..#.#.#..#..#....#.#..#.#..#.#....#..#.\n",
      "#..#.##...#..#....#.###..#..#.#....#..#.\n",
      "###..#.#..###.....#.#..#.###..#....####.\n",
      "#.#..#.#..#....#..#.#..#.#....#....#..#.\n",
      "#..#.#..#.#.....##..###..#....####.#..#.\n",
      "\n"
     ]
    }
   ],
   "source": [
    "def increment_cycle(cycle, strength, x):\n",
    "    \n",
    "    cycle += 1\n",
    "    if cycle in [20, 60, 100, 140, 180, 220]:\n",
    "        strength += cycle * x\n",
    "    return cycle, strength\n",
    "\n",
    "\n",
    "def add_pixel(cycle, sprite, printout):\n",
    "    \n",
    "    crt_pos = cycle % 40\n",
    "\n",
    "    if crt_pos in sprite:\n",
    "        printout += '#'\n",
    "    else:\n",
    "        printout += '.'\n",
    "\n",
    "    if crt_pos == 0:\n",
    "        printout += '\\n'\n",
    "    \n",
    "    return printout\n",
    "\n",
    "\n",
    "with open('.\\\\input\\\\day10.txt', 'r') as f:\n",
    "    # using splitlines removes the newline characters from the input\n",
    "    puzzle_input = f.read().splitlines()\n",
    "\n",
    "# initial state\n",
    "cycle = 0\n",
    "x = 1\n",
    "strength = 0\n",
    "\n",
    "# initial state for sprite rendering\n",
    "printout = ''\n",
    "sprite = [1, 2, 3]\n",
    "\n",
    "for instruction in puzzle_input:\n",
    "\n",
    "    if 'noop' in instruction:\n",
    "\n",
    "        # one cycle\n",
    "        cycle, strength = increment_cycle(cycle, strength, x)\n",
    "        printout = add_pixel(cycle, sprite, printout)\n",
    "\n",
    "    elif 'addx' in instruction:\n",
    "\n",
    "        #two cycles\n",
    "        for i in range(2):\n",
    "            cycle, strength = increment_cycle(cycle, strength, x)\n",
    "            printout = add_pixel(cycle, sprite, printout)\n",
    "\n",
    "        # update the x register & sprite position\n",
    "        x += int(instruction.split(' ')[1])\n",
    "        sprite = [x, x+1, x+2]\n",
    "\n",
    "print('Day 10, part 1:', strength)\n",
    "print('Day 10, part 2:', '\\n' + printout)"
   ]
  }
 ],
 "metadata": {
  "kernelspec": {
   "display_name": "Python 3",
   "language": "python",
   "name": "python3"
  },
  "language_info": {
   "codemirror_mode": {
    "name": "ipython",
    "version": 3
   },
   "file_extension": ".py",
   "mimetype": "text/x-python",
   "name": "python",
   "nbconvert_exporter": "python",
   "pygments_lexer": "ipython3",
   "version": "3.9.5"
  }
 },
 "nbformat": 4,
 "nbformat_minor": 5
}

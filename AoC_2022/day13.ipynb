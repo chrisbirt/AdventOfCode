{
 "cells": [
  {
   "cell_type": "code",
   "execution_count": 125,
   "id": "d03c2716",
   "metadata": {},
   "outputs": [
    {
     "name": "stdout",
     "output_type": "stream",
     "text": [
      "Day 13, part 1: 6656\n",
      "Day 13, part 2: 19716\n"
     ]
    }
   ],
   "source": [
    "import functools\n",
    "import math \n",
    "\n",
    "\n",
    "def is_ordered(packet_1, packet_2):\n",
    "\n",
    "    # compatible for use with cmp_to_key, it returns -1 if they're ordered, 1 if not, and 0 if undetermned\n",
    "    \n",
    "    # integer comparison\n",
    "    if isinstance(packet_1, int) & isinstance(packet_2, int):\n",
    "        return 0 if packet_1 == packet_2 else (packet_1 - packet_2)//abs((packet_1 - packet_2))\n",
    "\n",
    "    # reformat integers as lists\n",
    "    packet_1 = [packet_1] if isinstance(packet_1, int) else packet_1\n",
    "    packet_2 = [packet_2] if isinstance(packet_2, int) else packet_2\n",
    "\n",
    "    # iterate items in the packets\n",
    "    for i in range(max(len(packet_1), len(packet_2))):\n",
    "        \n",
    "        # run out of items to compare. Packet_1 is shorter\n",
    "        if i > (len(packet_1)-1):\n",
    "            return -1\n",
    "\n",
    "        # run out of items to compare. Packet_2 is shorter\n",
    "        elif i > (len(packet_2)-1):\n",
    "            return 1\n",
    "\n",
    "        # are the elements in the packets ordered?\n",
    "        else: \n",
    "            res = is_ordered(packet_1[i], packet_2[i])\n",
    "            if res != 0:\n",
    "                return res\n",
    "\n",
    "    # ordering not determinable\n",
    "    return 0\n",
    "\n",
    "\n",
    "with open('.\\\\input\\\\day13.txt', 'r') as f:\n",
    "    # using splitlines removes the newline characters from the input\n",
    "    puzzle_input = f.read().splitlines()\n",
    "\n",
    "# convert the string represenations of lists of integers into actual list objects. Ignore empty lines\n",
    "packets = [eval(i) for i in puzzle_input if i != '']\n",
    "\n",
    "result_1 = sum([(i + 2) // 2 for i in range(0, len(packets), 2) if is_ordered(packets[i], packets[i+1]) == -1])\n",
    "\n",
    "print('Day 13, part 1:', result_1)\n",
    "\n",
    "divider_packets = [ [[2]], [[6]] ]\n",
    "sorted_packets = sorted(packets + divider_packets, key=functools.cmp_to_key(is_ordered))\n",
    "\n",
    "result_2 = math.prod([i+1 for i in [sorted_packets.index(d) for d in divider_packets]])\n",
    "\n",
    "print('Day 13, part 2:', result_2)"
   ]
  },
  {
   "cell_type": "code",
   "execution_count": null,
   "id": "2d354b94",
   "metadata": {},
   "outputs": [],
   "source": []
  }
 ],
 "metadata": {
  "kernelspec": {
   "display_name": "Python 3",
   "language": "python",
   "name": "python3"
  },
  "language_info": {
   "codemirror_mode": {
    "name": "ipython",
    "version": 3
   },
   "file_extension": ".py",
   "mimetype": "text/x-python",
   "name": "python",
   "nbconvert_exporter": "python",
   "pygments_lexer": "ipython3",
   "version": "3.9.5"
  }
 },
 "nbformat": 4,
 "nbformat_minor": 5
}

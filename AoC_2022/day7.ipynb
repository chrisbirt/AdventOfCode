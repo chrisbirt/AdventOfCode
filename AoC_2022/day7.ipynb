{
 "cells": [
  {
   "cell_type": "code",
   "execution_count": 1,
   "id": "c2038327",
   "metadata": {
    "scrolled": true
   },
   "outputs": [
    {
     "name": "stdout",
     "output_type": "stream",
     "text": [
      "Day 7, part 1: 1770595\n",
      "Day 7, part 2: 2195372\n"
     ]
    }
   ],
   "source": [
    "with open('.\\\\input\\\\day7.txt', 'r') as f:\n",
    "    # using splitlines removes the newline characters from the input\n",
    "    puzzle_input = f.read().splitlines()\n",
    "\n",
    "folder_sizes = {}          # a dictionary of folders and their sizes\n",
    "curr_folder_paths = []     # a list of folder paths to the current location, eg if in folder e, ['/', '/ a', '/ a e']\n",
    "\n",
    "for p in puzzle_input:\n",
    "    # split each terminal output into a list of tokens.\n",
    "    tokens = p.split(' ')\n",
    "    \n",
    "    # the first token will either be '$', 'dir' or a value (the size of a file)\n",
    "    \n",
    "    # process a command\n",
    "    if tokens[0] == '$':\n",
    "        \n",
    "        # second token is either 'ls or 'cd'\n",
    "        \n",
    "        # process a 'cd' command\n",
    "        if tokens[1] == 'cd':\n",
    "            \n",
    "            if tokens[2] == '..':\n",
    "                \n",
    "                # remove the most recent folder path from the list of current folder paths\n",
    "                curr_folder_paths.pop()\n",
    "                \n",
    "            else:\n",
    "                \n",
    "                if curr_folder_paths:\n",
    "                    # append the folder we're 'cd'ing to, to the end of the latest folder path, \n",
    "                    # and add the new path to the list of paths\n",
    "                    curr_folder_paths.append(' '.join(curr_folder_paths[-1] + tokens[2]))\n",
    "                else:\n",
    "                    # initialise with the folder we're 'cd'ing to. \n",
    "                    # This will be the first 'cd' instruction which is usually the '/' folder\n",
    "                    curr_folder_paths.append(tokens[2])\n",
    "\n",
    "                # initialise the size of the new folder as 0 bytes\n",
    "                folder_sizes[curr_folder_paths[-1]] = 0\n",
    "                \n",
    "        # ignore ls command. Redundant code, but included for completeness sake.\n",
    "        elif tokens[1] == 'ls':\n",
    "            pass\n",
    "                \n",
    "    # ignore dir statements. Redundant code, but included for completeness sake.\n",
    "    elif tokens[0] == 'dir':\n",
    "        pass\n",
    "    \n",
    "    # process a file\n",
    "    else:\n",
    "        \n",
    "        # for each folder in the current folder paths to this location, \n",
    "        # increment the size of the folder by the size of the file\n",
    "        for folder in curr_folder_paths:\n",
    "            folder_sizes[folder] += int(tokens[0])\n",
    "\n",
    "# convert the values in the dictionary to a list    \n",
    "all_folders = list(folder_sizes.values())\n",
    "\n",
    "# return the sum of all folders smaller than or equal to 100000\n",
    "small_folders = [i for i in all_folders if i <= 100000]\n",
    "print(f'Day 7, part 1: {sum(small_folders)}')\n",
    "\n",
    "# determine require space by looking at the size of all files\n",
    "required_space = 30000000 - (70000000 - folder_sizes['/'])\n",
    "\n",
    "# return the size of the smallest folder that is greater than the required space\n",
    "big_folders = [i for i in all_folders if i >= required_space]\n",
    "print(f'Day 7, part 2: {min(big_folders)}')\n"
   ]
  }
 ],
 "metadata": {
  "kernelspec": {
   "display_name": "Python 3",
   "language": "python",
   "name": "python3"
  },
  "language_info": {
   "codemirror_mode": {
    "name": "ipython",
    "version": 3
   },
   "file_extension": ".py",
   "mimetype": "text/x-python",
   "name": "python",
   "nbconvert_exporter": "python",
   "pygments_lexer": "ipython3",
   "version": "3.9.5"
  }
 },
 "nbformat": 4,
 "nbformat_minor": 5
}

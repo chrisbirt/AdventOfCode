{
 "cells": [
  {
   "cell_type": "code",
   "execution_count": 1,
   "id": "b957a47d",
   "metadata": {},
   "outputs": [
    {
     "name": "stdout",
     "output_type": "stream",
     "text": [
      "Day 9, part 1: 5930\n",
      "Day 9, part 2: 2443\n"
     ]
    }
   ],
   "source": [
    "def move_knots(knots):\n",
    "    \n",
    "    # check the positional difference between one knot and the next knot in the rope\n",
    "    for i in range(1, len(knots)):\n",
    "        x_diff = knots[i-1][0] - knots[i][0]\n",
    "        y_diff = knots[i-1][1] - knots[i][1]\n",
    "\n",
    "        # move the knot by one unit in the the direction with a difference > 1\n",
    "        if abs(x_diff) > 1:\n",
    "            knots[i][0] += x_diff // abs(x_diff)\n",
    "\n",
    "            if y_diff != 0:\n",
    "                knots[i][1] += y_diff // abs(y_diff)\n",
    "\n",
    "        elif abs(y_diff) > 1:\n",
    "            knots[i][1] += y_diff // abs(y_diff)\n",
    "\n",
    "            if x_diff != 0:\n",
    "                knots[i][0] += x_diff // abs(x_diff)\n",
    "            \n",
    "\n",
    "def move_rope(puzzle_input, rope_length):\n",
    "    \n",
    "    # initialise the rope. [x,y] cartesian coordinates\n",
    "    knots = [[0, 0] for i in range(rope_length)]\n",
    "\n",
    "    # a map of deltas to apply to the head knot based on the direction of travel\n",
    "    move_map = {'U':[0, 1], 'D': [0, -1], 'L': [-1, 0], 'R': [1, 0]}\n",
    "    \n",
    "    # maintain a list of all positions held bt the tail knot\n",
    "    tail_knots = [[0, 0]]\n",
    "    \n",
    "    for p in puzzle_input:\n",
    "        \n",
    "        # parse the puzzle input\n",
    "        udlr, distance = p.split(' ')\n",
    "        delta = move_map[udlr]\n",
    "        distance = int(distance)\n",
    "        \n",
    "        for i in range(int(distance)):\n",
    "            \n",
    "            # move the head knot in the direction of travel by one unit\n",
    "            knots[0][0] += delta[0]\n",
    "            knots[0][1] += delta[1]\n",
    "\n",
    "            # move all the other knots along the route\n",
    "            move_knots(knots)\n",
    "            \n",
    "            # log the current position of the tail knot\n",
    "            tail_knots.append([knots[rope_length-1][0],knots[rope_length-1][1]])\n",
    "        \n",
    "    #print(set(tuple(k) for k in tail_knots))\n",
    "    return len(set(tuple(k) for k in tail_knots))\n",
    "\n",
    "\n",
    "with open('.\\\\input\\\\day9.txt', 'r') as f:\n",
    "    # using splitlines removes the newline characters from the input\n",
    "    puzzle_input = f.read().splitlines()\n",
    "\n",
    "print(f'Day 9, part 1: {move_rope(puzzle_input, 2)}')\n",
    "print(f'Day 9, part 2: {move_rope(puzzle_input, 10)}')\n"
   ]
  }
 ],
 "metadata": {
  "kernelspec": {
   "display_name": "Python 3",
   "language": "python",
   "name": "python3"
  },
  "language_info": {
   "codemirror_mode": {
    "name": "ipython",
    "version": 3
   },
   "file_extension": ".py",
   "mimetype": "text/x-python",
   "name": "python",
   "nbconvert_exporter": "python",
   "pygments_lexer": "ipython3",
   "version": "3.9.5"
  }
 },
 "nbformat": 4,
 "nbformat_minor": 5
}

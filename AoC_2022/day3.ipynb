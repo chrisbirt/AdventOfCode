{
 "cells": [
  {
   "cell_type": "code",
   "execution_count": null,
   "id": "c2038327",
   "metadata": {
    "scrolled": true
   },
   "outputs": [],
   "source": [
    "def priority(item):\n",
    "    # determine priority by offsetting the ascii value of the character\n",
    "    #\n",
    "    # priority examples: a=1,  z=26,  A=27, Z=52\n",
    "    # ascii reference:   a=97, z=122, A=65, Z=90\n",
    "    #\n",
    "    # lower case letters need to be offset by 96. \n",
    "    # Upper case letters need to be offset by 38\n",
    "    \n",
    "    ord_item = ord(item)\n",
    "    return ord_item - 38 if 65 <= ord_item <= 90 else ord_item - 96\n",
    "    \n",
    "    \n",
    "with open('.\\\\input\\\\day3.txt', 'r') as f:\n",
    "    # using splitlines removes the newline characters from the input\n",
    "    puzzle_input = f.read().splitlines()\n",
    "\n",
    "result = 0\n",
    "\n",
    "for p in puzzle_input:\n",
    "\n",
    "    # split rucksack contents into two equal sized chunks\n",
    "    size = len(p) // 2\n",
    "    compartment1, compartment2 = p[:size], p[size:]\n",
    "\n",
    "    # look for an item that exists in both\n",
    "    common_item = [i for i in compartment1 if i in compartment2][0]\n",
    "    \n",
    "    # increment the result by the priority value of the common item\n",
    "    result += priority(common_item)\n",
    "    \n",
    "print('Day 3, part 1:', result)\n",
    "\n",
    "result = 0\n",
    "\n",
    "for p in range(0, len(puzzle_input), 3):\n",
    "\n",
    "    # iterate over the rucksacks, in sets of three\n",
    "    rucksack1, rucksack2, rucksack3 = puzzle_input[p], puzzle_input[p+1], puzzle_input[p+2]\n",
    "    \n",
    "    # look for an item that exists in all three\n",
    "    common_item = [i for i in rucksack1 if (i in rucksack2) and (i in rucksack3)][0]\n",
    "    \n",
    "    # increment the result by the priority value of the common item\n",
    "    result += priority(common_item)\n",
    "\n",
    "print('Day 3, part 2:', result)\n"
   ]
  }
 ],
 "metadata": {
  "kernelspec": {
   "display_name": "Python 3",
   "language": "python",
   "name": "python3"
  },
  "language_info": {
   "codemirror_mode": {
    "name": "ipython",
    "version": 3
   },
   "file_extension": ".py",
   "mimetype": "text/x-python",
   "name": "python",
   "nbconvert_exporter": "python",
   "pygments_lexer": "ipython3",
   "version": "3.9.5"
  }
 },
 "nbformat": 4,
 "nbformat_minor": 5
}

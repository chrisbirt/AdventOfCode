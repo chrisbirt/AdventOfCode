{
 "cells": [
  {
   "cell_type": "code",
   "execution_count": null,
   "id": "c2038327",
   "metadata": {
    "scrolled": true
   },
   "outputs": [],
   "source": [
    "def find_marker(puzzle_input, marker_length):\n",
    "    \n",
    "    # iterate over the data stream\n",
    "    for i in range(len(puzzle_input)):\n",
    "        \n",
    "        # look if characters following the current character are unique\n",
    "        # check n characters where marker_length = n\n",
    "        # set returns a unique list\n",
    "        \n",
    "        if len(set(puzzle_input[i:i+marker_length])) == marker_length:\n",
    "            return i + marker_length\n",
    "\n",
    "    return 0\n",
    "\n",
    "\n",
    "with open('.\\\\input\\\\day6.txt', 'r') as f:\n",
    "    puzzle_input = f.read()\n",
    "\n",
    "print(f'Day 6, part 1: {find_marker(puzzle_input, 4)}')\n",
    "print(f'Day 6, part 2: {find_marker(puzzle_input, 14)}')\n"
   ]
  }
 ],
 "metadata": {
  "kernelspec": {
   "display_name": "Python 3",
   "language": "python",
   "name": "python3"
  },
  "language_info": {
   "codemirror_mode": {
    "name": "ipython",
    "version": 3
   },
   "file_extension": ".py",
   "mimetype": "text/x-python",
   "name": "python",
   "nbconvert_exporter": "python",
   "pygments_lexer": "ipython3",
   "version": "3.9.5"
  }
 },
 "nbformat": 4,
 "nbformat_minor": 5
}

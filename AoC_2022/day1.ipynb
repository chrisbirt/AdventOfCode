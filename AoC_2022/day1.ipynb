{
 "cells": [
  {
   "cell_type": "code",
   "execution_count": 3,
   "id": "c2038327",
   "metadata": {
    "scrolled": true
   },
   "outputs": [
    {
     "name": "stdout",
     "output_type": "stream",
     "text": [
      "Day 1, part 1: 70374\n",
      "Day 1, part 2: 204610\n"
     ]
    }
   ],
   "source": [
    "with open('.\\\\input\\\\day1.txt', 'r') as f:\n",
    "    # using splitlines removes the newline characters from the input\n",
    "    puzzle_input = f.read().splitlines()\n",
    "\n",
    "elves_calories = []\n",
    "calories = 0\n",
    "\n",
    "# Approach: iterate over the rows in the puzzle input\n",
    "# sum the calories, until we hit an empty row, or end of input. \n",
    "#  at this point, append the summed value to the list of all summed values\n",
    "\n",
    "for p in puzzle_input:\n",
    "    if p == '': \n",
    "        elves_calories.append(calories)\n",
    "        calories = 0\n",
    "    else:\n",
    "        calories += int(p)\n",
    "        \n",
    "elves_calories.append(calories)\n",
    "\n",
    "print('Day 1, part 1:', max(elves_calories))\n",
    "\n",
    "elves_calories.sort()\n",
    "\n",
    "print('Day 1, part 2:', sum(elves_calories[-3:]))\n"
   ]
  },
  {
   "cell_type": "code",
   "execution_count": null,
   "id": "2e2777c7",
   "metadata": {},
   "outputs": [],
   "source": []
  }
 ],
 "metadata": {
  "kernelspec": {
   "display_name": "Python 3",
   "language": "python",
   "name": "python3"
  },
  "language_info": {
   "codemirror_mode": {
    "name": "ipython",
    "version": 3
   },
   "file_extension": ".py",
   "mimetype": "text/x-python",
   "name": "python",
   "nbconvert_exporter": "python",
   "pygments_lexer": "ipython3",
   "version": "3.9.5"
  }
 },
 "nbformat": 4,
 "nbformat_minor": 5
}

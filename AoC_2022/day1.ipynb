{
 "cells": [
  {
   "cell_type": "code",
   "execution_count": null,
   "id": "c2038327",
   "metadata": {
    "scrolled": true
   },
   "outputs": [],
   "source": [
    "with open('.\\\\input\\\\day1.txt', 'r') as f:\n",
    "    # using splitlines removes the newline characters from the input\n",
    "    puzzle_input = f.read().splitlines()\n",
    "\n",
    "elves_calories = []\n",
    "calories = 0\n",
    "\n",
    "# iterate over the rows in the puzzle input\n",
    "# sum the calories, until we hit an empty row, or end of input when append the summed value to the list of all summed values\n",
    "\n",
    "for p in puzzle_input:\n",
    "    if p == '': \n",
    "        elves_calories.append(calories)\n",
    "        calories = 0\n",
    "    else:\n",
    "        calories += int(p)\n",
    "        \n",
    "elves_calories.append(calories)\n",
    "\n",
    "# return the max value in the list\n",
    "print('Day 1, part 1:', max(elves_calories))\n",
    "\n",
    "elves_calories.sort()     # sort smallest-to-largest\n",
    "\n",
    "# return the sum of the 3 largest values in the list\n",
    "print('Day 1, part 2:', sum(elves_calories[-3:]))\n"
   ]
  }
 ],
 "metadata": {
  "kernelspec": {
   "display_name": "Python 3",
   "language": "python",
   "name": "python3"
  },
  "language_info": {
   "codemirror_mode": {
    "name": "ipython",
    "version": 3
   },
   "file_extension": ".py",
   "mimetype": "text/x-python",
   "name": "python",
   "nbconvert_exporter": "python",
   "pygments_lexer": "ipython3",
   "version": "3.9.5"
  }
 },
 "nbformat": 4,
 "nbformat_minor": 5
}

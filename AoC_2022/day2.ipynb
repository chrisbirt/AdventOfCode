{
 "cells": [
  {
   "cell_type": "code",
   "execution_count": 1,
   "id": "c2038327",
   "metadata": {
    "scrolled": true
   },
   "outputs": [
    {
     "name": "stdout",
     "output_type": "stream",
     "text": [
      "Day 2, part 1: 13565\n",
      "Day 2, part 2: 12424\n"
     ]
    }
   ],
   "source": [
    "with open('.\\\\input\\\\day2.txt', 'r') as f:\n",
    "    # using splitlines removes the newline characters from the input\n",
    "    puzzle_input = f.read().splitlines()\n",
    "\n",
    "# A = Rock, B = Paper, C = Scissors\n",
    "# X = Rock, Y = Paper, Z = Scissors\n",
    "\n",
    "map_part1 = {'A X': [3, 1], 'A Y': [6, 2], 'A Z': [0,3],\n",
    "             'B X': [0, 1], 'B Y': [3, 2], 'B Z': [6,3],\n",
    "             'C X': [6, 1], 'C Y': [0, 2], 'C Z': [3,3]}\n",
    "    \n",
    "results = [map_part1[p][0] + map_part1[p][1] for p in puzzle_input]\n",
    "print('Day 2, part 1:', sum(results))\n",
    "\n",
    "# A = Rock, B = Paper, C = Scissors\n",
    "# X = Lose, Y = Draw, Z = Win\n",
    "\n",
    "map_part2 = {'A X': [0, 3], 'A Y': [3, 1], 'A Z': [6,2],\n",
    "             'B X': [0, 1], 'B Y': [3, 2], 'B Z': [6,3],\n",
    "             'C X': [0, 2], 'C Y': [3, 3], 'C Z': [6,1]}\n",
    "\n",
    "results = [map_part2[p][0] + map_part2[p][1] for p in puzzle_input]\n",
    "print('Day 2, part 2:', sum(results))\n"
   ]
  },
  {
   "cell_type": "code",
   "execution_count": null,
   "id": "2e2777c7",
   "metadata": {},
   "outputs": [],
   "source": []
  }
 ],
 "metadata": {
  "kernelspec": {
   "display_name": "Python 3",
   "language": "python",
   "name": "python3"
  },
  "language_info": {
   "codemirror_mode": {
    "name": "ipython",
    "version": 3
   },
   "file_extension": ".py",
   "mimetype": "text/x-python",
   "name": "python",
   "nbconvert_exporter": "python",
   "pygments_lexer": "ipython3",
   "version": "3.9.5"
  }
 },
 "nbformat": 4,
 "nbformat_minor": 5
}

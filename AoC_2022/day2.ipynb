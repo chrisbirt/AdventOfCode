{
 "cells": [
  {
   "cell_type": "code",
   "execution_count": null,
   "id": "c2038327",
   "metadata": {
    "scrolled": true
   },
   "outputs": [],
   "source": [
    "with open('.\\\\input\\\\day2.txt', 'r') as f:\n",
    "    # using splitlines removes the newline characters from the input\n",
    "    puzzle_input = f.read().splitlines()\n",
    "\n",
    "#  score 1 for Rock, 2 for Paper, and 3 for Scissors) plus the score for the outcome of the round \n",
    "#  (0 if you lost, 3 if the round was a draw, and 6 if you won).\n",
    "    \n",
    "# A = Rock, B = Paper, C = Scissors\n",
    "# X = Rock, Y = Paper, Z = Scissors\n",
    "\n",
    "# dictionary of possible outcomes, mapped to [value of win/lose/drow, value of choice]\n",
    "# eg. 'A X': [3, 1] - score 3 for a draw, plus 1 for choosing rock\n",
    "map_part1 = {'A X': [3, 1], 'A Y': [6, 2], 'A Z': [0, 3],\n",
    "             'B X': [0, 1], 'B Y': [3, 2], 'B Z': [6, 3],\n",
    "             'C X': [6, 1], 'C Y': [0, 2], 'C Z': [3, 3]}\n",
    "    \n",
    "results = [map_part1[p][0] + map_part1[p][1] for p in puzzle_input]\n",
    "print('Day 2, part 1:', sum(results))\n",
    "\n",
    "# A = Rock, B = Paper, C = Scissors\n",
    "# X = Lose, Y = Draw, Z = Win\n",
    "\n",
    "# dictionary of possible outcomes, mapped to [value of win/lose/drow, value of choice]\n",
    "# eg. 'A X': [0, 1] - score 0 for a loss, plus 3 for needing to choose Scissors as x to get a loss against Rock\n",
    "map_part2 = {'A X': [0, 3], 'A Y': [3, 1], 'A Z': [6, 2],\n",
    "             'B X': [0, 1], 'B Y': [3, 2], 'B Z': [6, 3],\n",
    "             'C X': [0, 2], 'C Y': [3, 3], 'C Z': [6, 1]}\n",
    "\n",
    "results = [map_part2[p][0] + map_part2[p][1] for p in puzzle_input]\n",
    "print('Day 2, part 2:', sum(results))\n"
   ]
  }
 ],
 "metadata": {
  "kernelspec": {
   "display_name": "Python 3",
   "language": "python",
   "name": "python3"
  },
  "language_info": {
   "codemirror_mode": {
    "name": "ipython",
    "version": 3
   },
   "file_extension": ".py",
   "mimetype": "text/x-python",
   "name": "python",
   "nbconvert_exporter": "python",
   "pygments_lexer": "ipython3",
   "version": "3.9.5"
  }
 },
 "nbformat": 4,
 "nbformat_minor": 5
}

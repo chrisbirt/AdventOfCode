{
 "cells": [
  {
   "cell_type": "code",
   "execution_count": null,
   "id": "c2038327",
   "metadata": {
    "scrolled": true
   },
   "outputs": [],
   "source": [
    "import re\n",
    "\n",
    "with open('.\\\\input\\\\day4.txt', 'r') as f:\n",
    "    # using splitlines removes the newline characters from the input\n",
    "    puzzle_input = f.read().splitlines()\n",
    "\n",
    "result_1 = 0\n",
    "result_2 = 0\n",
    "\n",
    "for p in puzzle_input:\n",
    "    \n",
    "    # reformat the input as a list of values\n",
    "    #   eg. '2-4,6-8' becomes [2,4,6,8]\n",
    "    assignments = list(map(int, re.split('[-,]', p)))\n",
    "\n",
    "    # check if one pair is wholly inside the other\n",
    "    if ((assignments[2] <= assignments[0] <= assignments[3]) &\n",
    "        (assignments[2] <= assignments[1] <= assignments[3])) | \\\n",
    "       ((assignments[0] <= assignments[2] <= assignments[1]) &\n",
    "        (assignments[0] <= assignments[3] <= assignments[1])):\n",
    "\n",
    "       result_1 += 1\n",
    "\n",
    "    # check if one pair is partially (or wholly) inside another\n",
    "    if ((assignments[2] <= assignments[0] <= assignments[3]) |\n",
    "       (assignments[2] <= assignments[1] <= assignments[3])) | \\\n",
    "       ((assignments[0] <= assignments[2] <= assignments[1]) |\n",
    "       (assignments[0] <= assignments[3] <= assignments[1])):\n",
    "\n",
    "       result_2 += 1\n",
    "\n",
    "print('Day 4, part 1:', result_1)\n",
    "print('Day 4, part 2:', result_2)\n"
   ]
  }
 ],
 "metadata": {
  "kernelspec": {
   "display_name": "Python 3",
   "language": "python",
   "name": "python3"
  },
  "language_info": {
   "codemirror_mode": {
    "name": "ipython",
    "version": 3
   },
   "file_extension": ".py",
   "mimetype": "text/x-python",
   "name": "python",
   "nbconvert_exporter": "python",
   "pygments_lexer": "ipython3",
   "version": "3.9.5"
  }
 },
 "nbformat": 4,
 "nbformat_minor": 5
}

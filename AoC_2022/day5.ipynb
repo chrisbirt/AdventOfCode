{
 "cells": [
  {
   "cell_type": "code",
   "execution_count": null,
   "id": "c2038327",
   "metadata": {
    "scrolled": true
   },
   "outputs": [],
   "source": [
    "import re\n",
    "\n",
    "# Hard code the initial stack. Quicker for getting to a solution :-)\n",
    "def init_stack():\n",
    "    stacks = [list('RGJBTVZ'),\n",
    "              list('JRVL'),\n",
    "              list('SQF'),\n",
    "              list('ZHNLFVQG'),\n",
    "              list('RQTJCSMW'),\n",
    "              list('SWTCHF'),\n",
    "              list('DZCVFNJ'),\n",
    "              list('LGZDWRFQ'),\n",
    "              list('JBWVP')]\n",
    "    return stacks\n",
    "\n",
    "\n",
    "def restack(puzzle_input, reverse):\n",
    "    \n",
    "    answer = ''\n",
    "    stacks = init_stack()\n",
    "    \n",
    "    for p in puzzle_input:\n",
    "\n",
    "        # parse the input.\n",
    "        #  eg. if the input is 'move 1 from 2 to 3', crates=1, from_tower=2, to_tower=3\n",
    "        move = re.split(' ', p)\n",
    "        crates, from_tower, to_tower = int(move[1]), int(move[3])-1, int(move[5])-1\n",
    "\n",
    "        if reverse:\n",
    "\n",
    "            # append to the to_tower the crates on the top of the from_tower. \n",
    "            # Reverse the order of the crates (synonymous with moving crates one at a time)\n",
    "            # [::-1] reverses the list\n",
    "            stacks[to_tower] += stacks[from_tower][-crates:][::-1]\n",
    "\n",
    "        else:\n",
    "\n",
    "            # append to the to_tower the crates on the top of the from_tower.\n",
    "            # move all the crates at once\n",
    "            stacks[to_tower] += stacks[from_tower][-crates:]\n",
    "\n",
    "        # remove the moved crates from the from_tower.\n",
    "        stacks[from_tower] = stacks[from_tower][:-crates]\n",
    "\n",
    "    # catenate the names of the crates at the top of each of the stacks\n",
    "    # since each crate name is a single character, just take the first character of the list item\n",
    "    for s in stacks:\n",
    "        answer += s[-1]\n",
    "\n",
    "    return answer\n",
    "\n",
    "\n",
    "with open('.\\\\input\\\\day5.txt', 'r') as f:\n",
    "    # using splitlines removes the newline characters from the input\n",
    "    # ignore the first 10 lines which contain initial crate stacks. (this is hard-coded)\n",
    "    puzzle_input = f.read().splitlines()[10:]\n",
    "\n",
    "print(f'Day 5, part 1: {restack(puzzle_input, True)}')\n",
    "print(f'Day 5, part 2: {restack(puzzle_input, False)}')\n"
   ]
  }
 ],
 "metadata": {
  "kernelspec": {
   "display_name": "Python 3",
   "language": "python",
   "name": "python3"
  },
  "language_info": {
   "codemirror_mode": {
    "name": "ipython",
    "version": 3
   },
   "file_extension": ".py",
   "mimetype": "text/x-python",
   "name": "python",
   "nbconvert_exporter": "python",
   "pygments_lexer": "ipython3",
   "version": "3.9.5"
  }
 },
 "nbformat": 4,
 "nbformat_minor": 5
}
